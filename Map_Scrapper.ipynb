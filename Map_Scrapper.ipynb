{
  "cells": [
    {
      "cell_type": "markdown",
      "metadata": {
        "id": "7MuYwXeUMDxH"
      },
      "source": [
        "# Scrapping Data"
      ]
    },
    {
      "cell_type": "code",
      "execution_count": null,
      "metadata": {
        "id": "jMNT1h57puuP"
      },
      "outputs": [],
      "source": [
        "import pandas as pd, numpy as np\n",
        "import requests\n",
        "import json\n",
        "import time\n",
        "from google.colab import files"
      ]
    },
    {
      "cell_type": "markdown",
      "metadata": {
        "id": "AT6d7URFp7li"
      },
      "source": [
        "## Parameters"
      ]
    },
    {
      "cell_type": "code",
      "execution_count": null,
      "metadata": {
        "id": "OBzYgxVwpnSl"
      },
      "outputs": [],
      "source": [
        "coordinates = ['33.31162555298017, 44.37779819864607']\n",
        "keywords = [''] # search keywrods\n",
        "radius = '15000' #Radios\n",
        "api_key = '' #insert your API key here\n",
        "final_data = []"
      ]
    },
    {
      "cell_type": "code",
      "execution_count": null,
      "metadata": {
        "id": "ZrfqITYmpw_Y"
      },
      "outputs": [],
      "source": [
        "for coordinate in coordinates:\n",
        "    for keyword in keywords:\n",
        "        url = 'https://maps.googleapis.com/maps/api/place/nearbysearch/json?location=' + coordinate + '&radius=' + str(\n",
        "            radius) + '&keyword=' + str(keyword) + '&key=' + str(api_key)\n",
        "        while True:\n",
        "            print(url)\n",
        "            respon = requests.get(url)\n",
        "            jj = json.loads(respon.text)\n",
        "            results = jj['results']\n",
        "            for result in results:\n",
        "                name = result['name']\n",
        "                place_id = result['place_id']\n",
        "                lat = result['geometry']['location']['lat']\n",
        "                lng = result['geometry']['location']['lng']\n",
        "                try:\n",
        "                  usr_rating_totl = result['user_ratings_total']\n",
        "                except KeyError:\n",
        "                  usr_rating_totl = None\n",
        "\n",
        "                try:\n",
        "                    price_level = result['price_level']\n",
        "                except KeyError:\n",
        "                    price_level = None\n",
        "                rating = result['rating']\n",
        "                types = result['types']\n",
        "                vicinity = result['vicinity']\n",
        "                data = [name, place_id, lat, lng, rating, types, vicinity, price_lvl, usr_rating_totl]\n",
        "                final_data.append(data)\n",
        "            time.sleep(5)\n",
        "            if 'next_page_token' not in jj:\n",
        "                break\n",
        "            else:\n",
        "                next_page_token = jj['next_page_token']\n",
        "                time.sleep(2)\n",
        "                url = 'https://maps.googleapis.com/maps/api/place/nearbysearch/json?key=' + str(api_key) + '&pagetoken=' + str(next_page_token)\n",
        "\n",
        "labels = ['Place Name', 'Place ID', 'Latitude', 'Longitude', 'Rating', 'Types', 'Vicinity', 'Price Level', 'User Rating tot']"
      ]
    },
    {
      "cell_type": "markdown",
      "metadata": {
        "id": "XJZ663jhqA5J"
      },
      "source": [
        "##  Save the data"
      ]
    },
    {
      "cell_type": "code",
      "execution_count": null,
      "metadata": {
        "id": "4YEp4Fo7pzAJ"
      },
      "outputs": [],
      "source": [
        "export_dataframe_1_medium = pd.DataFrame.from_records(final_data, columns=labels)\n",
        "export_dataframe_1_medium.to_csv('UniBaghdad_15K_1refPoint.csv')"
      ]
    }
  ],
  "metadata": {
    "colab": {
      "provenance": []
    },
    "kernelspec": {
      "display_name": "Python 3",
      "name": "python3"
    },
    "language_info": {
      "name": "python"
    }
  },
  "nbformat": 4,
  "nbformat_minor": 0
}
